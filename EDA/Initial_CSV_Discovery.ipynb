{
 "cells": [
  {
   "cell_type": "code",
   "execution_count": 18,
   "id": "ec41477f",
   "metadata": {},
   "outputs": [
    {
     "data": {
      "text/html": [
       "<div>\n",
       "<style scoped>\n",
       "    .dataframe tbody tr th:only-of-type {\n",
       "        vertical-align: middle;\n",
       "    }\n",
       "\n",
       "    .dataframe tbody tr th {\n",
       "        vertical-align: top;\n",
       "    }\n",
       "\n",
       "    .dataframe thead th {\n",
       "        text-align: right;\n",
       "    }\n",
       "</style>\n",
       "<table border=\"1\" class=\"dataframe\">\n",
       "  <thead>\n",
       "    <tr style=\"text-align: right;\">\n",
       "      <th></th>\n",
       "      <th>A1BG (1)</th>\n",
       "      <th>A1CF (29974)</th>\n",
       "      <th>A2M (2)</th>\n",
       "      <th>A2ML1 (144568)</th>\n",
       "      <th>A3GALT2 (127550)</th>\n",
       "      <th>A4GALT (53947)</th>\n",
       "      <th>A4GNT (51146)</th>\n",
       "      <th>AAAS (8086)</th>\n",
       "      <th>AACS (65985)</th>\n",
       "      <th>AADAC (13)</th>\n",
       "      <th>...</th>\n",
       "      <th>ZWILCH (55055)</th>\n",
       "      <th>ZWINT (11130)</th>\n",
       "      <th>ZXDA (7789)</th>\n",
       "      <th>ZXDB (158586)</th>\n",
       "      <th>ZXDC (79364)</th>\n",
       "      <th>ZYG11A (440590)</th>\n",
       "      <th>ZYG11B (79699)</th>\n",
       "      <th>ZYX (7791)</th>\n",
       "      <th>ZZEF1 (23140)</th>\n",
       "      <th>ZZZ3 (26009)</th>\n",
       "    </tr>\n",
       "  </thead>\n",
       "  <tbody>\n",
       "    <tr>\n",
       "      <th>ACH-000001</th>\n",
       "      <td>-0.122637</td>\n",
       "      <td>0.025881</td>\n",
       "      <td>0.034217</td>\n",
       "      <td>-0.128082</td>\n",
       "      <td>-0.031285</td>\n",
       "      <td>0.338046</td>\n",
       "      <td>-0.006439</td>\n",
       "      <td>-0.093642</td>\n",
       "      <td>0.189186</td>\n",
       "      <td>0.042783</td>\n",
       "      <td>...</td>\n",
       "      <td>-0.131727</td>\n",
       "      <td>-0.039829</td>\n",
       "      <td>0.179405</td>\n",
       "      <td>0.283552</td>\n",
       "      <td>0.204513</td>\n",
       "      <td>-0.289724</td>\n",
       "      <td>-0.062972</td>\n",
       "      <td>0.074180</td>\n",
       "      <td>0.111244</td>\n",
       "      <td>-0.467908</td>\n",
       "    </tr>\n",
       "    <tr>\n",
       "      <th>ACH-000004</th>\n",
       "      <td>0.019756</td>\n",
       "      <td>-0.083640</td>\n",
       "      <td>-0.060118</td>\n",
       "      <td>-0.027417</td>\n",
       "      <td>-0.036116</td>\n",
       "      <td>-0.001056</td>\n",
       "      <td>0.312876</td>\n",
       "      <td>-0.086897</td>\n",
       "      <td>0.204434</td>\n",
       "      <td>0.188715</td>\n",
       "      <td>...</td>\n",
       "      <td>-0.170329</td>\n",
       "      <td>-0.454263</td>\n",
       "      <td>0.194583</td>\n",
       "      <td>0.098989</td>\n",
       "      <td>0.126948</td>\n",
       "      <td>0.032983</td>\n",
       "      <td>-0.410392</td>\n",
       "      <td>0.113156</td>\n",
       "      <td>0.234388</td>\n",
       "      <td>-0.088306</td>\n",
       "    </tr>\n",
       "    <tr>\n",
       "      <th>ACH-000005</th>\n",
       "      <td>-0.107208</td>\n",
       "      <td>-0.023211</td>\n",
       "      <td>0.200204</td>\n",
       "      <td>0.116039</td>\n",
       "      <td>-0.172227</td>\n",
       "      <td>-0.071294</td>\n",
       "      <td>0.203270</td>\n",
       "      <td>-0.127806</td>\n",
       "      <td>-0.090981</td>\n",
       "      <td>0.073349</td>\n",
       "      <td>...</td>\n",
       "      <td>-0.301695</td>\n",
       "      <td>-0.454969</td>\n",
       "      <td>-0.061959</td>\n",
       "      <td>-0.036427</td>\n",
       "      <td>0.016602</td>\n",
       "      <td>-0.201273</td>\n",
       "      <td>-0.178877</td>\n",
       "      <td>-0.055349</td>\n",
       "      <td>-0.002161</td>\n",
       "      <td>-0.186842</td>\n",
       "    </tr>\n",
       "    <tr>\n",
       "      <th>ACH-000007</th>\n",
       "      <td>-0.031027</td>\n",
       "      <td>-0.137850</td>\n",
       "      <td>0.067704</td>\n",
       "      <td>0.107988</td>\n",
       "      <td>0.007992</td>\n",
       "      <td>0.124945</td>\n",
       "      <td>0.049548</td>\n",
       "      <td>-0.220824</td>\n",
       "      <td>-0.165669</td>\n",
       "      <td>0.230047</td>\n",
       "      <td>...</td>\n",
       "      <td>-0.303390</td>\n",
       "      <td>-0.507272</td>\n",
       "      <td>-0.025400</td>\n",
       "      <td>0.236659</td>\n",
       "      <td>0.072010</td>\n",
       "      <td>-0.100344</td>\n",
       "      <td>-0.462160</td>\n",
       "      <td>-0.001555</td>\n",
       "      <td>-0.325964</td>\n",
       "      <td>-0.486660</td>\n",
       "    </tr>\n",
       "    <tr>\n",
       "      <th>ACH-000009</th>\n",
       "      <td>0.008888</td>\n",
       "      <td>-0.146566</td>\n",
       "      <td>0.084471</td>\n",
       "      <td>0.089419</td>\n",
       "      <td>0.065109</td>\n",
       "      <td>0.027841</td>\n",
       "      <td>0.087943</td>\n",
       "      <td>-0.161369</td>\n",
       "      <td>0.041121</td>\n",
       "      <td>0.136621</td>\n",
       "      <td>...</td>\n",
       "      <td>-0.255466</td>\n",
       "      <td>-0.288739</td>\n",
       "      <td>-0.037132</td>\n",
       "      <td>0.261444</td>\n",
       "      <td>-0.062391</td>\n",
       "      <td>-0.112703</td>\n",
       "      <td>-0.598698</td>\n",
       "      <td>0.095877</td>\n",
       "      <td>-0.026742</td>\n",
       "      <td>-0.320759</td>\n",
       "    </tr>\n",
       "  </tbody>\n",
       "</table>\n",
       "<p>5 rows × 18443 columns</p>\n",
       "</div>"
      ],
      "text/plain": [
       "            A1BG (1)  A1CF (29974)   A2M (2)  A2ML1 (144568)  \\\n",
       "ACH-000001 -0.122637      0.025881  0.034217       -0.128082   \n",
       "ACH-000004  0.019756     -0.083640 -0.060118       -0.027417   \n",
       "ACH-000005 -0.107208     -0.023211  0.200204        0.116039   \n",
       "ACH-000007 -0.031027     -0.137850  0.067704        0.107988   \n",
       "ACH-000009  0.008888     -0.146566  0.084471        0.089419   \n",
       "\n",
       "            A3GALT2 (127550)  A4GALT (53947)  A4GNT (51146)  AAAS (8086)  \\\n",
       "ACH-000001         -0.031285        0.338046      -0.006439    -0.093642   \n",
       "ACH-000004         -0.036116       -0.001056       0.312876    -0.086897   \n",
       "ACH-000005         -0.172227       -0.071294       0.203270    -0.127806   \n",
       "ACH-000007          0.007992        0.124945       0.049548    -0.220824   \n",
       "ACH-000009          0.065109        0.027841       0.087943    -0.161369   \n",
       "\n",
       "            AACS (65985)  AADAC (13)  ...  ZWILCH (55055)  ZWINT (11130)  \\\n",
       "ACH-000001      0.189186    0.042783  ...       -0.131727      -0.039829   \n",
       "ACH-000004      0.204434    0.188715  ...       -0.170329      -0.454263   \n",
       "ACH-000005     -0.090981    0.073349  ...       -0.301695      -0.454969   \n",
       "ACH-000007     -0.165669    0.230047  ...       -0.303390      -0.507272   \n",
       "ACH-000009      0.041121    0.136621  ...       -0.255466      -0.288739   \n",
       "\n",
       "            ZXDA (7789)  ZXDB (158586)  ZXDC (79364)  ZYG11A (440590)  \\\n",
       "ACH-000001     0.179405       0.283552      0.204513        -0.289724   \n",
       "ACH-000004     0.194583       0.098989      0.126948         0.032983   \n",
       "ACH-000005    -0.061959      -0.036427      0.016602        -0.201273   \n",
       "ACH-000007    -0.025400       0.236659      0.072010        -0.100344   \n",
       "ACH-000009    -0.037132       0.261444     -0.062391        -0.112703   \n",
       "\n",
       "            ZYG11B (79699)  ZYX (7791)  ZZEF1 (23140)  ZZZ3 (26009)  \n",
       "ACH-000001       -0.062972    0.074180       0.111244     -0.467908  \n",
       "ACH-000004       -0.410392    0.113156       0.234388     -0.088306  \n",
       "ACH-000005       -0.178877   -0.055349      -0.002161     -0.186842  \n",
       "ACH-000007       -0.462160   -0.001555      -0.325964     -0.486660  \n",
       "ACH-000009       -0.598698    0.095877      -0.026742     -0.320759  \n",
       "\n",
       "[5 rows x 18443 columns]"
      ]
     },
     "execution_count": 18,
     "metadata": {},
     "output_type": "execute_result"
    }
   ],
   "source": [
    "import pandas as pd\n",
    "\n",
    "df = pd.read_csv('../CRISPRGeneEffect.csv', header=0, index_col=0)\n",
    "df = df.applymap(lambda x: pd.to_numeric(x, errors='coerce'))\n",
    "data = df.apply(pd.to_numeric, errors='coerce')\n",
    "\n",
    "df.head(5)"
   ]
  },
  {
   "cell_type": "code",
   "execution_count": 19,
   "id": "70db34e1",
   "metadata": {},
   "outputs": [
    {
     "name": "stdout",
     "output_type": "stream",
     "text": [
      "Number of rows: 1100\n",
      "Number of columns: 18443\n"
     ]
    }
   ],
   "source": [
    "# Get the number of rows and columns\n",
    "num_rows, num_cols = df.shape\n",
    "\n",
    "# Printing the results\n",
    "print(f\"Number of rows: {num_rows}\")\n",
    "print(f\"Number of columns: {num_cols}\")"
   ]
  },
  {
   "cell_type": "code",
   "execution_count": 20,
   "id": "4521cc92",
   "metadata": {},
   "outputs": [
    {
     "name": "stdout",
     "output_type": "stream",
     "text": [
      "Minimum value in the dataset: -5.632497179747052\n",
      "Maximum value in the dataset: 4.387553563976993\n",
      "Datatypes in the dataframe:\n"
     ]
    }
   ],
   "source": [
    "min_value = data.min().min()\n",
    "max_value = data.max().max()\n",
    "print(f\"Minimum value in the dataset: {min_value}\")\n",
    "print(f\"Maximum value in the dataset: {max_value}\")\n",
    "print(\"Datatypes in the dataframe:\")"
   ]
  },
  {
   "cell_type": "code",
   "execution_count": 21,
   "id": "f94d36f2",
   "metadata": {},
   "outputs": [
    {
     "name": "stdout",
     "output_type": "stream",
     "text": [
      "Mean of all values: -0.15\n",
      "Median of all values: -0.04\n"
     ]
    }
   ],
   "source": [
    "# Flatten the dataframe values, excluding NaN\n",
    "all_values = df.values.flatten()\n",
    "valid_values = all_values[~pd.isna(all_values)]\n",
    "\n",
    "# Calculate mean and median\n",
    "mean_value = valid_values.mean()\n",
    "median_value = pd.Series(valid_values).median()\n",
    "\n",
    "# Print the results\n",
    "print(f\"Mean of all values: {mean_value:.2f}\")\n",
    "print(f\"Median of all values: {median_value:.2f}\")"
   ]
  },
  {
   "cell_type": "code",
   "execution_count": 22,
   "id": "5053c49a",
   "metadata": {},
   "outputs": [
    {
     "name": "stdout",
     "output_type": "stream",
     "text": [
      "\n",
      "Total NaN values in the entire dataframe: 739493\n"
     ]
    }
   ],
   "source": [
    "# Count total NaN values in the entire dataframe\n",
    "total_nan = data.isna().sum().sum()\n",
    "print(f\"\\nTotal NaN values in the entire dataframe: {total_nan}\")"
   ]
  },
  {
   "cell_type": "code",
   "execution_count": 23,
   "id": "f6d32fe3",
   "metadata": {},
   "outputs": [
    {
     "name": "stdout",
     "output_type": "stream",
     "text": [
      "Minimum number of NaN values in a row: 0\n",
      "Maximum number of NaN values in a row: 1095\n",
      "Average number of NaN values in a row: 672.27\n"
     ]
    }
   ],
   "source": [
    "# Count NaN values in each row\n",
    "nan_per_row = df.isna().sum(axis=1)\n",
    "\n",
    "# Calculate minimum, maximum, and average number of NaN values\n",
    "min_na = nan_per_row.min()\n",
    "max_na = nan_per_row.max()\n",
    "avg_na = nan_per_row.mean()\n",
    "\n",
    "# Print the results\n",
    "print(f\"Minimum number of NaN values in a row: {min_na}\")\n",
    "print(f\"Maximum number of NaN values in a row: {max_na}\")\n",
    "print(f\"Average number of NaN values in a row: {avg_na:.2f}\")"
   ]
  },
  {
   "cell_type": "code",
   "execution_count": 24,
   "id": "51c86841",
   "metadata": {},
   "outputs": [
    {
     "data": {
      "image/png": "[encoded data removed]",
      "text/plain": [
       "<Figure size 1000x600 with 1 Axes>"
      ]
     },
     "metadata": {},
     "output_type": "display_data"
    }
   ],
   "source": [
    "import matplotlib.pyplot as plt\n",
    "import seaborn as sns\n",
    "\n",
    "# Flatten the DataFrame to a 1D array to plot the distribution\n",
    "flattened_data = data.values.flatten()\n",
    "\n",
    "# Remove NaN values\n",
    "flattened_data = flattened_data[~pd.isnull(flattened_data)]\n",
    "\n",
    "# Plot histogram\n",
    "plt.figure(figsize=(10, 6))\n",
    "plt.hist(flattened_data, bins=50, edgecolor='k', alpha=0.7)\n",
    "plt.title('Distribution of Float Numbers')\n",
    "plt.xlabel('Value')\n",
    "plt.ylabel('Frequency')\n",
    "plt.show()"
   ]
  },
  {
   "cell_type": "code",
   "execution_count": null,
   "id": "79029237",
   "metadata": {},
   "outputs": [],
   "source": []
  }
 ],
 "metadata": {
  "kernelspec": {
   "display_name": "Python 3 (ipykernel)",
   "language": "python",
   "name": "python3"
  },
  "language_info": {
   "codemirror_mode": {
    "name": "ipython",
    "version": 3
   },
   "file_extension": ".py",
   "mimetype": "text/x-python",
   "name": "python",
   "nbconvert_exporter": "python",
   "pygments_lexer": "ipython3",
   "version": "3.11.5"
  }
 },
 "nbformat": 4,
 "nbformat_minor": 5
}
